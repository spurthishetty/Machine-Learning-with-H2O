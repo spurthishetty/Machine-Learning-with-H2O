{
 "cells": [
  {
   "cell_type": "markdown",
   "metadata": {},
   "source": [
    "# Starting H2O server"
   ]
  },
  {
   "cell_type": "code",
   "execution_count": 1,
   "metadata": {},
   "outputs": [
    {
     "name": "stdout",
     "output_type": "stream",
     "text": [
      "Checking whether there is an H2O instance running at http://localhost:54321..... not found.\n",
      "Attempting to start a local H2O server...\n",
      "; Java HotSpot(TM) 64-Bit Server VM (build 25.171-b11, mixed mode)\n",
      "  Starting server from C:\\Users\\sayal\\AppData\\Roaming\\Python\\Python36\\site-packages\\h2o\\backend\\bin\\h2o.jar\n",
      "  Ice root: C:\\Users\\sayal\\AppData\\Local\\Temp\\tmpmx0izerf\n",
      "  JVM stdout: C:\\Users\\sayal\\AppData\\Local\\Temp\\tmpmx0izerf\\h2o_sayal_started_from_python.out\n",
      "  JVM stderr: C:\\Users\\sayal\\AppData\\Local\\Temp\\tmpmx0izerf\\h2o_sayal_started_from_python.err\n",
      "  Server is running at http://127.0.0.1:54321\n",
      "Connecting to H2O server at http://127.0.0.1:54321... successful.\n"
     ]
    },
    {
     "data": {
      "text/html": [
       "<div style=\"overflow:auto\"><table style=\"width:50%\"><tr><td>H2O cluster uptime:</td>\n",
       "<td>03 secs</td></tr>\n",
       "<tr><td>H2O cluster timezone:</td>\n",
       "<td>America/New_York</td></tr>\n",
       "<tr><td>H2O data parsing timezone:</td>\n",
       "<td>UTC</td></tr>\n",
       "<tr><td>H2O cluster version:</td>\n",
       "<td>3.22.0.2</td></tr>\n",
       "<tr><td>H2O cluster version age:</td>\n",
       "<td>3 months and 3 days </td></tr>\n",
       "<tr><td>H2O cluster name:</td>\n",
       "<td>H2O_from_python_sayal_9jomju</td></tr>\n",
       "<tr><td>H2O cluster total nodes:</td>\n",
       "<td>1</td></tr>\n",
       "<tr><td>H2O cluster free memory:</td>\n",
       "<td>3.535 Gb</td></tr>\n",
       "<tr><td>H2O cluster total cores:</td>\n",
       "<td>8</td></tr>\n",
       "<tr><td>H2O cluster allowed cores:</td>\n",
       "<td>8</td></tr>\n",
       "<tr><td>H2O cluster status:</td>\n",
       "<td>accepting new members, healthy</td></tr>\n",
       "<tr><td>H2O connection url:</td>\n",
       "<td>http://127.0.0.1:54321</td></tr>\n",
       "<tr><td>H2O connection proxy:</td>\n",
       "<td>None</td></tr>\n",
       "<tr><td>H2O internal security:</td>\n",
       "<td>False</td></tr>\n",
       "<tr><td>H2O API Extensions:</td>\n",
       "<td>Algos, AutoML, Core V3, Core V4</td></tr>\n",
       "<tr><td>Python version:</td>\n",
       "<td>3.6.5 final</td></tr></table></div>"
      ],
      "text/plain": [
       "--------------------------  -------------------------------\n",
       "H2O cluster uptime:         03 secs\n",
       "H2O cluster timezone:       America/New_York\n",
       "H2O data parsing timezone:  UTC\n",
       "H2O cluster version:        3.22.0.2\n",
       "H2O cluster version age:    3 months and 3 days\n",
       "H2O cluster name:           H2O_from_python_sayal_9jomju\n",
       "H2O cluster total nodes:    1\n",
       "H2O cluster free memory:    3.535 Gb\n",
       "H2O cluster total cores:    8\n",
       "H2O cluster allowed cores:  8\n",
       "H2O cluster status:         accepting new members, healthy\n",
       "H2O connection url:         http://127.0.0.1:54321\n",
       "H2O connection proxy:\n",
       "H2O internal security:      False\n",
       "H2O API Extensions:         Algos, AutoML, Core V3, Core V4\n",
       "Python version:             3.6.5 final\n",
       "--------------------------  -------------------------------"
      ]
     },
     "metadata": {},
     "output_type": "display_data"
    }
   ],
   "source": [
    "import h2o\n",
    "from h2o.automl import H2OAutoML\n",
    "h2o.init()"
   ]
  },
  {
   "cell_type": "markdown",
   "metadata": {},
   "source": [
    "h2o.init with python seems very sensitive the the H2O version. If the H2O cluster version is 3.20.0.1 and the python h2o library is 3.19.0 it will fail so we set strict_version_check=False\n",
    "\n",
    "If the H2O cluster isn't found h2o.init will start one.\n",
    "\n",
    "Note that the current script starts each H2O instance on a different port. It's not clear why but should we do this we should choose from only the higher ports.\n",
    "\n",
    "A port number is a 16-bit unsigned integer, thus ranging from 0 to 65535. There is no reason to choose a port less than 10000."
   ]
  },
  {
   "cell_type": "code",
   "execution_count": 2,
   "metadata": {},
   "outputs": [
    {
     "name": "stdout",
     "output_type": "stream",
     "text": [
      "Parse progress: |█████████████████████████████████████████████████████████| 100%\n"
     ]
    }
   ],
   "source": [
    "df = h2o.import_file('./train.csv')"
   ]
  },
  {
   "cell_type": "code",
   "execution_count": 16,
   "metadata": {},
   "outputs": [
    {
     "name": "stdout",
     "output_type": "stream",
     "text": [
      "Rows:137\n",
      "Cols:43\n",
      "\n",
      "\n"
     ]
    },
    {
     "data": {
      "text/html": [
       "<table>\n",
       "<thead>\n",
       "<tr><th>       </th><th>Id               </th><th>Open Date          </th><th>City          </th><th>City Group  </th><th>Type  </th><th>P1                </th><th>P2                </th><th>P3                </th><th>P4                </th><th>P5                </th><th>P6               </th><th>P7                </th><th>P8                </th><th>P9                </th><th>P10               </th><th>P11               </th><th>P12              </th><th>P13               </th><th>P14              </th><th>P15               </th><th>P16               </th><th>P17               </th><th>P18               </th><th>P19               </th><th>P20               </th><th>P21               </th><th>P22               </th><th>P23               </th><th>P24               </th><th>P25               </th><th>P26               </th><th>P27               </th><th>P28               </th><th>P29               </th><th>P30               </th><th>P31               </th><th>P32              </th><th>P33               </th><th>P34              </th><th>P35               </th><th>P36               </th><th>P37               </th><th>revenue          </th></tr>\n",
       "</thead>\n",
       "<tbody>\n",
       "<tr><td>type   </td><td>int              </td><td>time               </td><td>enum          </td><td>enum        </td><td>enum  </td><td>int               </td><td>real              </td><td>real              </td><td>real              </td><td>int               </td><td>int              </td><td>int               </td><td>int               </td><td>int               </td><td>int               </td><td>int               </td><td>int              </td><td>real              </td><td>int              </td><td>int               </td><td>int               </td><td>int               </td><td>int               </td><td>int               </td><td>int               </td><td>int               </td><td>int               </td><td>int               </td><td>int               </td><td>int               </td><td>real              </td><td>real              </td><td>real              </td><td>real              </td><td>int               </td><td>int               </td><td>int              </td><td>int               </td><td>int              </td><td>int               </td><td>int               </td><td>int               </td><td>int              </td></tr>\n",
       "<tr><td>mins   </td><td>0.0              </td><td>831513600000.0     </td><td>              </td><td>            </td><td>      </td><td>1.0               </td><td>1.0               </td><td>0.0               </td><td>3.0               </td><td>1.0               </td><td>1.0              </td><td>1.0               </td><td>1.0               </td><td>4.0               </td><td>4.0               </td><td>1.0               </td><td>2.0              </td><td>3.0               </td><td>0.0              </td><td>0.0               </td><td>0.0               </td><td>0.0               </td><td>0.0               </td><td>1.0               </td><td>1.0               </td><td>1.0               </td><td>1.0               </td><td>1.0               </td><td>0.0               </td><td>0.0               </td><td>0.0               </td><td>0.0               </td><td>1.0               </td><td>0.0               </td><td>0.0               </td><td>0.0               </td><td>0.0              </td><td>0.0               </td><td>0.0              </td><td>0.0               </td><td>0.0               </td><td>0.0               </td><td>1149870.0        </td></tr>\n",
       "<tr><td>mean   </td><td>68.0             </td><td>1237657296350.3645 </td><td>              </td><td>            </td><td>      </td><td>4.014598540145983 </td><td>4.40875912408759  </td><td>4.3175182481751815</td><td>4.3722627737226265</td><td>2.007299270072992 </td><td>3.357664233576642</td><td>5.423357664233579 </td><td>5.153284671532846 </td><td>5.445255474452556 </td><td>5.4890510948905105</td><td>3.2627737226277373</td><td>5.299270072992701</td><td>5.0802919708029215</td><td>1.416058394160584</td><td>1.3868613138686123</td><td>1.9416058394160591</td><td>1.0364963503649631</td><td>1.9416058394160591</td><td>4.9051094890510925</td><td>4.547445255474453 </td><td>2.2700729927007313</td><td>2.226277372262773 </td><td>3.4233576642335772</td><td>1.3722627737226274</td><td>1.2116788321167888</td><td>1.4708029197080286</td><td>1.1459854014598536</td><td>3.222627737226278 </td><td>3.1350364963503643</td><td>2.7299270072992696</td><td>1.9416058394160591</td><td>2.525547445255475</td><td>1.1386861313868615</td><td>2.489051094890511</td><td>2.0291970802919708</td><td>2.2116788321167897</td><td>1.1167883211678835</td><td>4453532.613138688</td></tr>\n",
       "<tr><td>maxs   </td><td>136.0            </td><td>1390608000000.0    </td><td>              </td><td>            </td><td>      </td><td>12.0              </td><td>7.5               </td><td>7.5               </td><td>7.5               </td><td>8.0               </td><td>10.0             </td><td>10.0              </td><td>10.0              </td><td>10.0              </td><td>10.0              </td><td>10.0              </td><td>10.0             </td><td>7.5               </td><td>15.0             </td><td>10.0              </td><td>15.0              </td><td>15.0              </td><td>12.0              </td><td>25.0              </td><td>15.0              </td><td>15.0              </td><td>5.0               </td><td>25.0              </td><td>10.0              </td><td>10.0              </td><td>12.5              </td><td>12.5              </td><td>12.5              </td><td>7.5               </td><td>25.0              </td><td>15.0              </td><td>25.0             </td><td>6.0               </td><td>24.0             </td><td>15.0              </td><td>20.0              </td><td>8.0               </td><td>19696939.0       </td></tr>\n",
       "<tr><td>sigma  </td><td>39.69256857397868</td><td>127116648579.15549 </td><td>              </td><td>            </td><td>      </td><td>2.9103906182641897</td><td>1.5149002322301595</td><td>1.0323372831631499</td><td>1.016462285331371 </td><td>1.2096204458482704</td><td>2.134235040936531</td><td>2.2968092565212213</td><td>1.8585672492102188</td><td>1.8347932566223957</td><td>1.8475611441015003</td><td>1.9107669887212244</td><td>1.941667580380517</td><td>1.0365269651197466</td><td>2.729582859119749</td><td>2.398676642450269 </td><td>3.5058069964611924</td><td>2.0306792514853385</td><td>3.3005490259814088</td><td>5.604466721336747 </td><td>3.7080413470149143</td><td>2.052629768180595 </td><td>1.2306902697860198</td><td>4.55960948362845  </td><td>2.3041117315830677</td><td>2.1331785760383997</td><td>2.6120242483769287</td><td>2.067038752821938 </td><td>2.3088064366403795</td><td>1.6808869875261374</td><td>5.536647490657986 </td><td>3.51209344173743  </td><td>5.230116819034456</td><td>1.698539518630745 </td><td>5.165093228930779</td><td>3.4362719321608006</td><td>4.168210677141203 </td><td>1.7907675540962253</td><td>2576071.595708188</td></tr>\n",
       "<tr><td>zeros  </td><td>1                </td><td>0                  </td><td>              </td><td>            </td><td>      </td><td>0                 </td><td>0                 </td><td>1                 </td><td>0                 </td><td>0                 </td><td>0                </td><td>0                 </td><td>0                 </td><td>0                 </td><td>0                 </td><td>0                 </td><td>0                </td><td>0                 </td><td>88               </td><td>88                </td><td>88                </td><td>88                </td><td>88                </td><td>0                 </td><td>0                 </td><td>0                 </td><td>0                 </td><td>0                 </td><td>88                </td><td>88                </td><td>88                </td><td>89                </td><td>0                 </td><td>2                 </td><td>88                </td><td>88                </td><td>88               </td><td>88                </td><td>88               </td><td>88                </td><td>88                </td><td>88                </td><td>0                </td></tr>\n",
       "<tr><td>missing</td><td>0                </td><td>0                  </td><td>0             </td><td>0           </td><td>0     </td><td>0                 </td><td>0                 </td><td>0                 </td><td>0                 </td><td>0                 </td><td>0                </td><td>0                 </td><td>0                 </td><td>0                 </td><td>0                 </td><td>0                 </td><td>0                </td><td>0                 </td><td>0                </td><td>0                 </td><td>0                 </td><td>0                 </td><td>0                 </td><td>0                 </td><td>0                 </td><td>0                 </td><td>0                 </td><td>0                 </td><td>0                 </td><td>0                 </td><td>0                 </td><td>0                 </td><td>0                 </td><td>0                 </td><td>0                 </td><td>0                 </td><td>0                </td><td>0                 </td><td>0                </td><td>0                 </td><td>0                 </td><td>0                 </td><td>0                </td></tr>\n",
       "<tr><td>0      </td><td>0.0              </td><td>1999-07-17 00:00:00</td><td>Ä°stanbul     </td><td>Big Cities  </td><td>IL    </td><td>4.0               </td><td>5.0               </td><td>4.0               </td><td>4.0               </td><td>2.0               </td><td>2.0              </td><td>5.0               </td><td>4.0               </td><td>5.0               </td><td>5.0               </td><td>3.0               </td><td>5.0              </td><td>5.0               </td><td>1.0              </td><td>2.0               </td><td>2.0               </td><td>2.0               </td><td>4.0               </td><td>5.0               </td><td>4.0               </td><td>1.0               </td><td>3.0               </td><td>3.0               </td><td>1.0               </td><td>1.0               </td><td>1.0               </td><td>4.0               </td><td>2.0               </td><td>3.0               </td><td>5.0               </td><td>3.0               </td><td>4.0              </td><td>5.0               </td><td>5.0              </td><td>4.0               </td><td>3.0               </td><td>4.0               </td><td>5653753.0        </td></tr>\n",
       "<tr><td>1      </td><td>1.0              </td><td>2008-02-14 00:00:00</td><td>Ankara        </td><td>Big Cities  </td><td>FC    </td><td>4.0               </td><td>5.0               </td><td>4.0               </td><td>4.0               </td><td>1.0               </td><td>2.0              </td><td>5.0               </td><td>5.0               </td><td>5.0               </td><td>5.0               </td><td>1.0               </td><td>5.0              </td><td>5.0               </td><td>0.0              </td><td>0.0               </td><td>0.0               </td><td>0.0               </td><td>0.0               </td><td>3.0               </td><td>2.0               </td><td>1.0               </td><td>3.0               </td><td>2.0               </td><td>0.0               </td><td>0.0               </td><td>0.0               </td><td>0.0               </td><td>3.0               </td><td>3.0               </td><td>0.0               </td><td>0.0               </td><td>0.0              </td><td>0.0               </td><td>0.0              </td><td>0.0               </td><td>0.0               </td><td>0.0               </td><td>6923131.0        </td></tr>\n",
       "<tr><td>2      </td><td>2.0              </td><td>2013-03-09 00:00:00</td><td>DiyarbakÄ±r   </td><td>Other       </td><td>IL    </td><td>2.0               </td><td>4.0               </td><td>2.0               </td><td>5.0               </td><td>2.0               </td><td>3.0              </td><td>5.0               </td><td>5.0               </td><td>5.0               </td><td>5.0               </td><td>2.0               </td><td>5.0              </td><td>5.0               </td><td>0.0              </td><td>0.0               </td><td>0.0               </td><td>0.0               </td><td>0.0               </td><td>1.0               </td><td>1.0               </td><td>1.0               </td><td>1.0               </td><td>1.0               </td><td>0.0               </td><td>0.0               </td><td>0.0               </td><td>0.0               </td><td>1.0               </td><td>3.0               </td><td>0.0               </td><td>0.0               </td><td>0.0              </td><td>0.0               </td><td>0.0              </td><td>0.0               </td><td>0.0               </td><td>0.0               </td><td>2055379.0        </td></tr>\n",
       "<tr><td>3      </td><td>3.0              </td><td>2012-02-02 00:00:00</td><td>Tokat         </td><td>Other       </td><td>IL    </td><td>6.0               </td><td>4.5               </td><td>6.0               </td><td>6.0               </td><td>4.0               </td><td>4.0              </td><td>10.0              </td><td>8.0               </td><td>10.0              </td><td>10.0              </td><td>8.0               </td><td>10.0             </td><td>7.5               </td><td>6.0              </td><td>4.0               </td><td>9.0               </td><td>3.0               </td><td>12.0              </td><td>20.0              </td><td>12.0              </td><td>6.0               </td><td>1.0               </td><td>10.0              </td><td>2.0               </td><td>2.0               </td><td>2.5               </td><td>2.5               </td><td>2.5               </td><td>7.5               </td><td>25.0              </td><td>12.0              </td><td>10.0             </td><td>6.0               </td><td>18.0             </td><td>12.0              </td><td>12.0              </td><td>6.0               </td><td>2675511.0        </td></tr>\n",
       "<tr><td>4      </td><td>4.0              </td><td>2009-05-09 00:00:00</td><td>Gaziantep     </td><td>Other       </td><td>IL    </td><td>3.0               </td><td>4.0               </td><td>3.0               </td><td>4.0               </td><td>2.0               </td><td>2.0              </td><td>5.0               </td><td>5.0               </td><td>5.0               </td><td>5.0               </td><td>2.0               </td><td>5.0              </td><td>5.0               </td><td>2.0              </td><td>1.0               </td><td>2.0               </td><td>1.0               </td><td>4.0               </td><td>2.0               </td><td>2.0               </td><td>1.0               </td><td>2.0               </td><td>1.0               </td><td>2.0               </td><td>3.0               </td><td>3.0               </td><td>5.0               </td><td>1.0               </td><td>3.0               </td><td>5.0               </td><td>1.0               </td><td>3.0              </td><td>2.0               </td><td>3.0              </td><td>4.0               </td><td>3.0               </td><td>3.0               </td><td>4316715.0        </td></tr>\n",
       "<tr><td>5      </td><td>5.0              </td><td>2010-02-12 00:00:00</td><td>Ankara        </td><td>Big Cities  </td><td>FC    </td><td>6.0               </td><td>6.0               </td><td>4.5               </td><td>7.5               </td><td>8.0               </td><td>10.0             </td><td>10.0              </td><td>8.0               </td><td>8.0               </td><td>8.0               </td><td>10.0              </td><td>8.0              </td><td>6.0               </td><td>0.0              </td><td>0.0               </td><td>0.0               </td><td>0.0               </td><td>0.0               </td><td>5.0               </td><td>6.0               </td><td>3.0               </td><td>1.0               </td><td>5.0               </td><td>0.0               </td><td>0.0               </td><td>0.0               </td><td>0.0               </td><td>7.5               </td><td>5.0               </td><td>0.0               </td><td>0.0               </td><td>0.0              </td><td>0.0               </td><td>0.0              </td><td>0.0               </td><td>0.0               </td><td>0.0               </td><td>5017319.0        </td></tr>\n",
       "<tr><td>6      </td><td>6.0              </td><td>2010-10-11 00:00:00</td><td>Ä°stanbul     </td><td>Big Cities  </td><td>IL    </td><td>2.0               </td><td>3.0               </td><td>4.0               </td><td>4.0               </td><td>1.0               </td><td>5.0              </td><td>5.0               </td><td>5.0               </td><td>5.0               </td><td>5.0               </td><td>2.0               </td><td>5.0              </td><td>5.0               </td><td>3.0              </td><td>4.0               </td><td>4.0               </td><td>3.0               </td><td>4.0               </td><td>2.0               </td><td>4.0               </td><td>1.0               </td><td>2.0               </td><td>1.0               </td><td>5.0               </td><td>4.0               </td><td>4.0               </td><td>5.0               </td><td>1.0               </td><td>3.0               </td><td>4.0               </td><td>5.0               </td><td>2.0              </td><td>2.0               </td><td>3.0              </td><td>5.0               </td><td>4.0               </td><td>4.0               </td><td>5166635.0        </td></tr>\n",
       "<tr><td>7      </td><td>7.0              </td><td>2011-06-21 00:00:00</td><td>Ä°stanbul     </td><td>Big Cities  </td><td>IL    </td><td>4.0               </td><td>5.0               </td><td>4.0               </td><td>5.0               </td><td>2.0               </td><td>3.0              </td><td>5.0               </td><td>4.0               </td><td>4.0               </td><td>4.0               </td><td>4.0               </td><td>3.0              </td><td>4.0               </td><td>0.0              </td><td>0.0               </td><td>0.0               </td><td>0.0               </td><td>0.0               </td><td>3.0               </td><td>5.0               </td><td>2.0               </td><td>4.0               </td><td>2.0               </td><td>0.0               </td><td>0.0               </td><td>0.0               </td><td>0.0               </td><td>3.0               </td><td>2.0               </td><td>0.0               </td><td>0.0               </td><td>0.0              </td><td>0.0               </td><td>0.0              </td><td>0.0               </td><td>0.0               </td><td>0.0               </td><td>4491607.0        </td></tr>\n",
       "<tr><td>8      </td><td>8.0              </td><td>2010-08-28 00:00:00</td><td>Afyonkarahisar</td><td>Other       </td><td>IL    </td><td>1.0               </td><td>1.0               </td><td>4.0               </td><td>4.0               </td><td>1.0               </td><td>2.0              </td><td>1.0               </td><td>5.0               </td><td>5.0               </td><td>5.0               </td><td>1.0               </td><td>5.0              </td><td>5.0               </td><td>1.0              </td><td>1.0               </td><td>2.0               </td><td>1.0               </td><td>4.0               </td><td>1.0               </td><td>1.0               </td><td>1.0               </td><td>1.0               </td><td>1.0               </td><td>4.0               </td><td>4.0               </td><td>4.0               </td><td>2.0               </td><td>2.0               </td><td>3.0               </td><td>4.0               </td><td>5.0               </td><td>5.0              </td><td>3.0               </td><td>4.0              </td><td>5.0               </td><td>4.0               </td><td>5.0               </td><td>4952497.0        </td></tr>\n",
       "<tr><td>9      </td><td>9.0              </td><td>2011-11-16 00:00:00</td><td>Edirne        </td><td>Other       </td><td>IL    </td><td>6.0               </td><td>4.5               </td><td>6.0               </td><td>7.5               </td><td>6.0               </td><td>4.0              </td><td>10.0              </td><td>10.0              </td><td>10.0              </td><td>10.0              </td><td>2.0               </td><td>10.0             </td><td>7.5               </td><td>0.0              </td><td>0.0               </td><td>0.0               </td><td>0.0               </td><td>0.0               </td><td>25.0              </td><td>3.0               </td><td>3.0               </td><td>1.0               </td><td>10.0              </td><td>0.0               </td><td>0.0               </td><td>0.0               </td><td>0.0               </td><td>5.0               </td><td>2.5               </td><td>0.0               </td><td>0.0               </td><td>0.0              </td><td>0.0               </td><td>0.0              </td><td>0.0               </td><td>0.0               </td><td>0.0               </td><td>5444227.0        </td></tr>\n",
       "</tbody>\n",
       "</table>"
      ]
     },
     "metadata": {},
     "output_type": "display_data"
    }
   ],
   "source": [
    "df.describe()"
   ]
  },
  {
   "cell_type": "code",
   "execution_count": 17,
   "metadata": {},
   "outputs": [],
   "source": [
    "y = 'revenue'"
   ]
  },
  {
   "cell_type": "code",
   "execution_count": 18,
   "metadata": {},
   "outputs": [],
   "source": [
    "aml = H2OAutoML(max_runtime_secs = 6000, seed = 1)"
   ]
  },
  {
   "cell_type": "code",
   "execution_count": 19,
   "metadata": {},
   "outputs": [],
   "source": [
    "splits = df.split_frame(ratios = [0.8], seed = 1)\n",
    "train = splits[0]\n",
    "test = splits[1]"
   ]
  },
  {
   "cell_type": "code",
   "execution_count": 20,
   "metadata": {
    "scrolled": true
   },
   "outputs": [
    {
     "name": "stdout",
     "output_type": "stream",
     "text": [
      "AutoML progress: |████████████████████████████████████████████████████████| 100%\n"
     ]
    }
   ],
   "source": [
    "aml.train(y = y, training_frame = train, leaderboard_frame =test )"
   ]
  },
  {
   "cell_type": "markdown",
   "metadata": {},
   "source": [
    "# Leaderboard\n",
    "\n",
    "Next, we will view the AutoML Leaderboard. Since we did not specify a leaderboard_frame in the H2OAutoML.train() method for scoring and ranking the models, the AutoML leaderboard uses cross-validation metrics to rank the models.\n",
    "\n",
    "A default performance metric for each machine learning task (binary classification, multiclass classification, regression) is specified internally and the leaderboard will be sorted by that metric. In the case of binary classification, the default ranking metric is Area Under the ROC Curve (AUC). In the future, the user will be able to specify any of the H2O metrics so that different metrics can be used to generate rankings on the leaderboard.\n",
    "\n",
    "The leader model is stored at aml.leader and the leaderboard is stored at aml.leaderboard."
   ]
  },
  {
   "cell_type": "code",
   "execution_count": 21,
   "metadata": {},
   "outputs": [
    {
     "data": {
      "text/html": [
       "<table>\n",
       "<thead>\n",
       "<tr><th>model_id                                           </th><th style=\"text-align: right;\">  mean_residual_deviance</th><th style=\"text-align: right;\">       rmse</th><th style=\"text-align: right;\">        mse</th><th style=\"text-align: right;\">        mae</th><th style=\"text-align: right;\">   rmsle</th></tr>\n",
       "</thead>\n",
       "<tbody>\n",
       "<tr><td>DeepLearning_grid_1_AutoML_20190225_201636_model_14</td><td style=\"text-align: right;\">             1.77414e+12</td><td style=\"text-align: right;\">1.33197e+06</td><td style=\"text-align: right;\">1.77414e+12</td><td style=\"text-align: right;\">1.07649e+06</td><td style=\"text-align: right;\">0.396311</td></tr>\n",
       "<tr><td>DeepLearning_grid_1_AutoML_20190225_201636_model_23</td><td style=\"text-align: right;\">             1.87166e+12</td><td style=\"text-align: right;\">1.36809e+06</td><td style=\"text-align: right;\">1.87166e+12</td><td style=\"text-align: right;\">1.06591e+06</td><td style=\"text-align: right;\">0.398778</td></tr>\n",
       "<tr><td>DeepLearning_grid_1_AutoML_20190225_201636_model_31</td><td style=\"text-align: right;\">             2.29881e+12</td><td style=\"text-align: right;\">1.51618e+06</td><td style=\"text-align: right;\">2.29881e+12</td><td style=\"text-align: right;\">1.24849e+06</td><td style=\"text-align: right;\">0.392972</td></tr>\n",
       "<tr><td>DeepLearning_grid_1_AutoML_20190225_201636_model_22</td><td style=\"text-align: right;\">             2.44535e+12</td><td style=\"text-align: right;\">1.56376e+06</td><td style=\"text-align: right;\">2.44535e+12</td><td style=\"text-align: right;\">1.24131e+06</td><td style=\"text-align: right;\">0.425939</td></tr>\n",
       "<tr><td>DeepLearning_grid_1_AutoML_20190225_201636_model_30</td><td style=\"text-align: right;\">             2.65563e+12</td><td style=\"text-align: right;\">1.62961e+06</td><td style=\"text-align: right;\">2.65563e+12</td><td style=\"text-align: right;\">1.3693e+06 </td><td style=\"text-align: right;\">0.455223</td></tr>\n",
       "<tr><td>GBM_grid_1_AutoML_20190225_201636_model_1          </td><td style=\"text-align: right;\">             2.88285e+12</td><td style=\"text-align: right;\">1.6979e+06 </td><td style=\"text-align: right;\">2.88285e+12</td><td style=\"text-align: right;\">1.52865e+06</td><td style=\"text-align: right;\">0.49207 </td></tr>\n",
       "<tr><td>GBM_grid_1_AutoML_20190225_201636_model_2          </td><td style=\"text-align: right;\">             2.89848e+12</td><td style=\"text-align: right;\">1.70249e+06</td><td style=\"text-align: right;\">2.89848e+12</td><td style=\"text-align: right;\">1.53041e+06</td><td style=\"text-align: right;\">0.496404</td></tr>\n",
       "<tr><td>DeepLearning_grid_1_AutoML_20190225_201636_model_5 </td><td style=\"text-align: right;\">             2.99737e+12</td><td style=\"text-align: right;\">1.73129e+06</td><td style=\"text-align: right;\">2.99737e+12</td><td style=\"text-align: right;\">1.46429e+06</td><td style=\"text-align: right;\">0.448689</td></tr>\n",
       "<tr><td>DeepLearning_grid_1_AutoML_20190225_201636_model_25</td><td style=\"text-align: right;\">             3.0327e+12 </td><td style=\"text-align: right;\">1.74146e+06</td><td style=\"text-align: right;\">3.0327e+12 </td><td style=\"text-align: right;\">1.5192e+06 </td><td style=\"text-align: right;\">0.493735</td></tr>\n",
       "<tr><td>DeepLearning_grid_1_AutoML_20190225_201636_model_3 </td><td style=\"text-align: right;\">             3.05941e+12</td><td style=\"text-align: right;\">1.74912e+06</td><td style=\"text-align: right;\">3.05941e+12</td><td style=\"text-align: right;\">1.42313e+06</td><td style=\"text-align: right;\">0.456737</td></tr>\n",
       "</tbody>\n",
       "</table>"
      ]
     },
     "metadata": {},
     "output_type": "display_data"
    },
    {
     "data": {
      "text/plain": []
     },
     "execution_count": 21,
     "metadata": {},
     "output_type": "execute_result"
    }
   ],
   "source": [
    "aml.leaderboard"
   ]
  },
  {
   "cell_type": "code",
   "execution_count": 22,
   "metadata": {},
   "outputs": [
    {
     "name": "stdout",
     "output_type": "stream",
     "text": [
      "\n",
      "ModelMetricsRegression: deeplearning\n",
      "** Reported on test data. **\n",
      "\n",
      "MSE: 1774138315871.0547\n",
      "RMSE: 1331967.8358995966\n",
      "MAE: 1076485.1875787657\n",
      "RMSLE: 0.3963110090679296\n",
      "Mean Residual Deviance: 1774138315871.0547\n"
     ]
    },
    {
     "data": {
      "text/plain": []
     },
     "execution_count": 22,
     "metadata": {},
     "output_type": "execute_result"
    }
   ],
   "source": [
    "perf = aml.leader.model_performance(test)\n",
    "perf"
   ]
  },
  {
   "cell_type": "markdown",
   "metadata": {},
   "source": [
    "# Conclusion"
   ]
  },
  {
   "cell_type": "markdown",
   "metadata": {},
   "source": [
    "Our Evaluation is based on RMSE values\n",
    "We are getting a RMSE value of 1331967.8358995966 "
   ]
  },
  {
   "cell_type": "markdown",
   "metadata": {},
   "source": []
  }
 ],
 "metadata": {
  "kernelspec": {
   "display_name": "Python 3",
   "language": "python",
   "name": "python3"
  },
  "language_info": {
   "codemirror_mode": {
    "name": "ipython",
    "version": 3
   },
   "file_extension": ".py",
   "mimetype": "text/x-python",
   "name": "python",
   "nbconvert_exporter": "python",
   "pygments_lexer": "ipython3",
   "version": "3.6.5"
  }
 },
 "nbformat": 4,
 "nbformat_minor": 2
}
